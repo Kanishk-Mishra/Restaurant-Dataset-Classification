{
  "nbformat": 4,
  "nbformat_minor": 0,
  "metadata": {
    "colab": {
      "provenance": []
    },
    "kernelspec": {
      "name": "python3",
      "display_name": "Python 3"
    },
    "language_info": {
      "name": "python"
    }
  },
  "cells": [
    {
      "cell_type": "code",
      "execution_count": null,
      "metadata": {
        "id": "WosIQE7W6bsu"
      },
      "outputs": [],
      "source": [
        "import pandas as pd\n",
        "import numpy as np\n",
        "from google.colab import files"
      ]
    },
    {
      "cell_type": "code",
      "source": [
        "upload = files.upload()"
      ],
      "metadata": {
        "colab": {
          "base_uri": "https://localhost:8080/",
          "height": 74
        },
        "id": "FXi2aDdM7KDy",
        "outputId": "646af7f5-9ce6-45ca-c483-de0424626ba9"
      },
      "execution_count": null,
      "outputs": [
        {
          "output_type": "display_data",
          "data": {
            "text/plain": [
              "<IPython.core.display.HTML object>"
            ],
            "text/html": [
              "\n",
              "     <input type=\"file\" id=\"files-dde2dd33-980f-4cd9-8d11-9c6f53d54bb7\" name=\"files[]\" multiple disabled\n",
              "        style=\"border:none\" />\n",
              "     <output id=\"result-dde2dd33-980f-4cd9-8d11-9c6f53d54bb7\">\n",
              "      Upload widget is only available when the cell has been executed in the\n",
              "      current browser session. Please rerun this cell to enable.\n",
              "      </output>\n",
              "      <script>// Copyright 2017 Google LLC\n",
              "//\n",
              "// Licensed under the Apache License, Version 2.0 (the \"License\");\n",
              "// you may not use this file except in compliance with the License.\n",
              "// You may obtain a copy of the License at\n",
              "//\n",
              "//      http://www.apache.org/licenses/LICENSE-2.0\n",
              "//\n",
              "// Unless required by applicable law or agreed to in writing, software\n",
              "// distributed under the License is distributed on an \"AS IS\" BASIS,\n",
              "// WITHOUT WARRANTIES OR CONDITIONS OF ANY KIND, either express or implied.\n",
              "// See the License for the specific language governing permissions and\n",
              "// limitations under the License.\n",
              "\n",
              "/**\n",
              " * @fileoverview Helpers for google.colab Python module.\n",
              " */\n",
              "(function(scope) {\n",
              "function span(text, styleAttributes = {}) {\n",
              "  const element = document.createElement('span');\n",
              "  element.textContent = text;\n",
              "  for (const key of Object.keys(styleAttributes)) {\n",
              "    element.style[key] = styleAttributes[key];\n",
              "  }\n",
              "  return element;\n",
              "}\n",
              "\n",
              "// Max number of bytes which will be uploaded at a time.\n",
              "const MAX_PAYLOAD_SIZE = 100 * 1024;\n",
              "\n",
              "function _uploadFiles(inputId, outputId) {\n",
              "  const steps = uploadFilesStep(inputId, outputId);\n",
              "  const outputElement = document.getElementById(outputId);\n",
              "  // Cache steps on the outputElement to make it available for the next call\n",
              "  // to uploadFilesContinue from Python.\n",
              "  outputElement.steps = steps;\n",
              "\n",
              "  return _uploadFilesContinue(outputId);\n",
              "}\n",
              "\n",
              "// This is roughly an async generator (not supported in the browser yet),\n",
              "// where there are multiple asynchronous steps and the Python side is going\n",
              "// to poll for completion of each step.\n",
              "// This uses a Promise to block the python side on completion of each step,\n",
              "// then passes the result of the previous step as the input to the next step.\n",
              "function _uploadFilesContinue(outputId) {\n",
              "  const outputElement = document.getElementById(outputId);\n",
              "  const steps = outputElement.steps;\n",
              "\n",
              "  const next = steps.next(outputElement.lastPromiseValue);\n",
              "  return Promise.resolve(next.value.promise).then((value) => {\n",
              "    // Cache the last promise value to make it available to the next\n",
              "    // step of the generator.\n",
              "    outputElement.lastPromiseValue = value;\n",
              "    return next.value.response;\n",
              "  });\n",
              "}\n",
              "\n",
              "/**\n",
              " * Generator function which is called between each async step of the upload\n",
              " * process.\n",
              " * @param {string} inputId Element ID of the input file picker element.\n",
              " * @param {string} outputId Element ID of the output display.\n",
              " * @return {!Iterable<!Object>} Iterable of next steps.\n",
              " */\n",
              "function* uploadFilesStep(inputId, outputId) {\n",
              "  const inputElement = document.getElementById(inputId);\n",
              "  inputElement.disabled = false;\n",
              "\n",
              "  const outputElement = document.getElementById(outputId);\n",
              "  outputElement.innerHTML = '';\n",
              "\n",
              "  const pickedPromise = new Promise((resolve) => {\n",
              "    inputElement.addEventListener('change', (e) => {\n",
              "      resolve(e.target.files);\n",
              "    });\n",
              "  });\n",
              "\n",
              "  const cancel = document.createElement('button');\n",
              "  inputElement.parentElement.appendChild(cancel);\n",
              "  cancel.textContent = 'Cancel upload';\n",
              "  const cancelPromise = new Promise((resolve) => {\n",
              "    cancel.onclick = () => {\n",
              "      resolve(null);\n",
              "    };\n",
              "  });\n",
              "\n",
              "  // Wait for the user to pick the files.\n",
              "  const files = yield {\n",
              "    promise: Promise.race([pickedPromise, cancelPromise]),\n",
              "    response: {\n",
              "      action: 'starting',\n",
              "    }\n",
              "  };\n",
              "\n",
              "  cancel.remove();\n",
              "\n",
              "  // Disable the input element since further picks are not allowed.\n",
              "  inputElement.disabled = true;\n",
              "\n",
              "  if (!files) {\n",
              "    return {\n",
              "      response: {\n",
              "        action: 'complete',\n",
              "      }\n",
              "    };\n",
              "  }\n",
              "\n",
              "  for (const file of files) {\n",
              "    const li = document.createElement('li');\n",
              "    li.append(span(file.name, {fontWeight: 'bold'}));\n",
              "    li.append(span(\n",
              "        `(${file.type || 'n/a'}) - ${file.size} bytes, ` +\n",
              "        `last modified: ${\n",
              "            file.lastModifiedDate ? file.lastModifiedDate.toLocaleDateString() :\n",
              "                                    'n/a'} - `));\n",
              "    const percent = span('0% done');\n",
              "    li.appendChild(percent);\n",
              "\n",
              "    outputElement.appendChild(li);\n",
              "\n",
              "    const fileDataPromise = new Promise((resolve) => {\n",
              "      const reader = new FileReader();\n",
              "      reader.onload = (e) => {\n",
              "        resolve(e.target.result);\n",
              "      };\n",
              "      reader.readAsArrayBuffer(file);\n",
              "    });\n",
              "    // Wait for the data to be ready.\n",
              "    let fileData = yield {\n",
              "      promise: fileDataPromise,\n",
              "      response: {\n",
              "        action: 'continue',\n",
              "      }\n",
              "    };\n",
              "\n",
              "    // Use a chunked sending to avoid message size limits. See b/62115660.\n",
              "    let position = 0;\n",
              "    do {\n",
              "      const length = Math.min(fileData.byteLength - position, MAX_PAYLOAD_SIZE);\n",
              "      const chunk = new Uint8Array(fileData, position, length);\n",
              "      position += length;\n",
              "\n",
              "      const base64 = btoa(String.fromCharCode.apply(null, chunk));\n",
              "      yield {\n",
              "        response: {\n",
              "          action: 'append',\n",
              "          file: file.name,\n",
              "          data: base64,\n",
              "        },\n",
              "      };\n",
              "\n",
              "      let percentDone = fileData.byteLength === 0 ?\n",
              "          100 :\n",
              "          Math.round((position / fileData.byteLength) * 100);\n",
              "      percent.textContent = `${percentDone}% done`;\n",
              "\n",
              "    } while (position < fileData.byteLength);\n",
              "  }\n",
              "\n",
              "  // All done.\n",
              "  yield {\n",
              "    response: {\n",
              "      action: 'complete',\n",
              "    }\n",
              "  };\n",
              "}\n",
              "\n",
              "scope.google = scope.google || {};\n",
              "scope.google.colab = scope.google.colab || {};\n",
              "scope.google.colab._files = {\n",
              "  _uploadFiles,\n",
              "  _uploadFilesContinue,\n",
              "};\n",
              "})(self);\n",
              "</script> "
            ]
          },
          "metadata": {}
        },
        {
          "output_type": "stream",
          "name": "stdout",
          "text": [
            "Saving train_data_copy_mlp.csv to train_data_copy_mlp.csv\n"
          ]
        }
      ]
    },
    {
      "cell_type": "code",
      "source": [
        "df = pd.read_csv('train_data_copy_mlp.csv')"
      ],
      "metadata": {
        "id": "s0pE5v8R7TJI"
      },
      "execution_count": null,
      "outputs": []
    },
    {
      "cell_type": "code",
      "source": [
        "df.head()"
      ],
      "metadata": {
        "colab": {
          "base_uri": "https://localhost:8080/",
          "height": 456
        },
        "id": "iR_BRKvD7eIT",
        "outputId": "644f3cd3-c3fe-471e-8f6d-fa6450bc2dd9"
      },
      "execution_count": null,
      "outputs": [
        {
          "output_type": "execute_result",
          "data": {
            "text/plain": [
              "  offer expiration     income_range no_visited_Cold drinks  \\\n",
              "0            2days  ₹100000 or More                    4~8   \n",
              "1            2days  ₹87500 - ₹99999                    4~8   \n",
              "2            2days  ₹87500 - ₹99999                  less1   \n",
              "3          10hours  ₹37500 - ₹49999                  less1   \n",
              "4            2days  ₹100000 or More                  never   \n",
              "\n",
              "   travelled_more_than_15mins_for_offer Restaur_spend_less_than20  \\\n",
              "0                                     1                     less1   \n",
              "1                                     0                       4~8   \n",
              "2                                     1                       1~3   \n",
              "3                                     0                       1~3   \n",
              "4                                     1                       1~3   \n",
              "\n",
              "    Marital Status       restaurant type     age  Prefer western over chinese  \\\n",
              "0  Married partner     4 star restaurant      36                            0   \n",
              "1  Married partner  Take-away restaurant  50plus                            0   \n",
              "2           Single           Cold drinks      26                            1   \n",
              "3           Single  Take-away restaurant      46                            1   \n",
              "4           Single     4 star restaurant      21                            0   \n",
              "\n",
              "   travelled_more_than_25mins_for_offer  ...  \\\n",
              "0                                     0  ...   \n",
              "1                                     0  ...   \n",
              "2                                     0  ...   \n",
              "3                                     0  ...   \n",
              "4                                     1  ...   \n",
              "\n",
              "   restuarant_opposite_direction_house has Children  \\\n",
              "0                                    0            0   \n",
              "1                                    0            1   \n",
              "2                                    1            1   \n",
              "3                                    0            1   \n",
              "4                                    1            0   \n",
              "\n",
              "  visit restaurant with rating (avg) temperature  \\\n",
              "0                                  4          67   \n",
              "1                                  3          89   \n",
              "2                                  4          67   \n",
              "3                                  3          89   \n",
              "4                                  3          40   \n",
              "\n",
              "   Restaur_spend_greater_than20  Travel Time Climate drop location  \\\n",
              "0                         less1           22  Spring    Location B   \n",
              "1                           1~3           18  Summer    Location B   \n",
              "2                         less1            7  Winter    Location A   \n",
              "3                           1~3            7  Summer    Location C   \n",
              "4                         less1            7  Summer    Location C   \n",
              "\n",
              "   Prefer home food Offer Accepted  \n",
              "0                 0             No  \n",
              "1                 0            Yes  \n",
              "2                 1            Yes  \n",
              "3                 0             No  \n",
              "4                 0             No  \n",
              "\n",
              "[5 rows x 31 columns]"
            ],
            "text/html": [
              "\n",
              "  <div id=\"df-deaf179d-d5cb-4d90-b69a-4b57149e25f8\">\n",
              "    <div class=\"colab-df-container\">\n",
              "      <div>\n",
              "<style scoped>\n",
              "    .dataframe tbody tr th:only-of-type {\n",
              "        vertical-align: middle;\n",
              "    }\n",
              "\n",
              "    .dataframe tbody tr th {\n",
              "        vertical-align: top;\n",
              "    }\n",
              "\n",
              "    .dataframe thead th {\n",
              "        text-align: right;\n",
              "    }\n",
              "</style>\n",
              "<table border=\"1\" class=\"dataframe\">\n",
              "  <thead>\n",
              "    <tr style=\"text-align: right;\">\n",
              "      <th></th>\n",
              "      <th>offer expiration</th>\n",
              "      <th>income_range</th>\n",
              "      <th>no_visited_Cold drinks</th>\n",
              "      <th>travelled_more_than_15mins_for_offer</th>\n",
              "      <th>Restaur_spend_less_than20</th>\n",
              "      <th>Marital Status</th>\n",
              "      <th>restaurant type</th>\n",
              "      <th>age</th>\n",
              "      <th>Prefer western over chinese</th>\n",
              "      <th>travelled_more_than_25mins_for_offer</th>\n",
              "      <th>...</th>\n",
              "      <th>restuarant_opposite_direction_house</th>\n",
              "      <th>has Children</th>\n",
              "      <th>visit restaurant with rating (avg)</th>\n",
              "      <th>temperature</th>\n",
              "      <th>Restaur_spend_greater_than20</th>\n",
              "      <th>Travel Time</th>\n",
              "      <th>Climate</th>\n",
              "      <th>drop location</th>\n",
              "      <th>Prefer home food</th>\n",
              "      <th>Offer Accepted</th>\n",
              "    </tr>\n",
              "  </thead>\n",
              "  <tbody>\n",
              "    <tr>\n",
              "      <th>0</th>\n",
              "      <td>2days</td>\n",
              "      <td>₹100000 or More</td>\n",
              "      <td>4~8</td>\n",
              "      <td>1</td>\n",
              "      <td>less1</td>\n",
              "      <td>Married partner</td>\n",
              "      <td>4 star restaurant</td>\n",
              "      <td>36</td>\n",
              "      <td>0</td>\n",
              "      <td>0</td>\n",
              "      <td>...</td>\n",
              "      <td>0</td>\n",
              "      <td>0</td>\n",
              "      <td>4</td>\n",
              "      <td>67</td>\n",
              "      <td>less1</td>\n",
              "      <td>22</td>\n",
              "      <td>Spring</td>\n",
              "      <td>Location B</td>\n",
              "      <td>0</td>\n",
              "      <td>No</td>\n",
              "    </tr>\n",
              "    <tr>\n",
              "      <th>1</th>\n",
              "      <td>2days</td>\n",
              "      <td>₹87500 - ₹99999</td>\n",
              "      <td>4~8</td>\n",
              "      <td>0</td>\n",
              "      <td>4~8</td>\n",
              "      <td>Married partner</td>\n",
              "      <td>Take-away restaurant</td>\n",
              "      <td>50plus</td>\n",
              "      <td>0</td>\n",
              "      <td>0</td>\n",
              "      <td>...</td>\n",
              "      <td>0</td>\n",
              "      <td>1</td>\n",
              "      <td>3</td>\n",
              "      <td>89</td>\n",
              "      <td>1~3</td>\n",
              "      <td>18</td>\n",
              "      <td>Summer</td>\n",
              "      <td>Location B</td>\n",
              "      <td>0</td>\n",
              "      <td>Yes</td>\n",
              "    </tr>\n",
              "    <tr>\n",
              "      <th>2</th>\n",
              "      <td>2days</td>\n",
              "      <td>₹87500 - ₹99999</td>\n",
              "      <td>less1</td>\n",
              "      <td>1</td>\n",
              "      <td>1~3</td>\n",
              "      <td>Single</td>\n",
              "      <td>Cold drinks</td>\n",
              "      <td>26</td>\n",
              "      <td>1</td>\n",
              "      <td>0</td>\n",
              "      <td>...</td>\n",
              "      <td>1</td>\n",
              "      <td>1</td>\n",
              "      <td>4</td>\n",
              "      <td>67</td>\n",
              "      <td>less1</td>\n",
              "      <td>7</td>\n",
              "      <td>Winter</td>\n",
              "      <td>Location A</td>\n",
              "      <td>1</td>\n",
              "      <td>Yes</td>\n",
              "    </tr>\n",
              "    <tr>\n",
              "      <th>3</th>\n",
              "      <td>10hours</td>\n",
              "      <td>₹37500 - ₹49999</td>\n",
              "      <td>less1</td>\n",
              "      <td>0</td>\n",
              "      <td>1~3</td>\n",
              "      <td>Single</td>\n",
              "      <td>Take-away restaurant</td>\n",
              "      <td>46</td>\n",
              "      <td>1</td>\n",
              "      <td>0</td>\n",
              "      <td>...</td>\n",
              "      <td>0</td>\n",
              "      <td>1</td>\n",
              "      <td>3</td>\n",
              "      <td>89</td>\n",
              "      <td>1~3</td>\n",
              "      <td>7</td>\n",
              "      <td>Summer</td>\n",
              "      <td>Location C</td>\n",
              "      <td>0</td>\n",
              "      <td>No</td>\n",
              "    </tr>\n",
              "    <tr>\n",
              "      <th>4</th>\n",
              "      <td>2days</td>\n",
              "      <td>₹100000 or More</td>\n",
              "      <td>never</td>\n",
              "      <td>1</td>\n",
              "      <td>1~3</td>\n",
              "      <td>Single</td>\n",
              "      <td>4 star restaurant</td>\n",
              "      <td>21</td>\n",
              "      <td>0</td>\n",
              "      <td>1</td>\n",
              "      <td>...</td>\n",
              "      <td>1</td>\n",
              "      <td>0</td>\n",
              "      <td>3</td>\n",
              "      <td>40</td>\n",
              "      <td>less1</td>\n",
              "      <td>7</td>\n",
              "      <td>Summer</td>\n",
              "      <td>Location C</td>\n",
              "      <td>0</td>\n",
              "      <td>No</td>\n",
              "    </tr>\n",
              "  </tbody>\n",
              "</table>\n",
              "<p>5 rows × 31 columns</p>\n",
              "</div>\n",
              "      <button class=\"colab-df-convert\" onclick=\"convertToInteractive('df-deaf179d-d5cb-4d90-b69a-4b57149e25f8')\"\n",
              "              title=\"Convert this dataframe to an interactive table.\"\n",
              "              style=\"display:none;\">\n",
              "        \n",
              "  <svg xmlns=\"http://www.w3.org/2000/svg\" height=\"24px\"viewBox=\"0 0 24 24\"\n",
              "       width=\"24px\">\n",
              "    <path d=\"M0 0h24v24H0V0z\" fill=\"none\"/>\n",
              "    <path d=\"M18.56 5.44l.94 2.06.94-2.06 2.06-.94-2.06-.94-.94-2.06-.94 2.06-2.06.94zm-11 1L8.5 8.5l.94-2.06 2.06-.94-2.06-.94L8.5 2.5l-.94 2.06-2.06.94zm10 10l.94 2.06.94-2.06 2.06-.94-2.06-.94-.94-2.06-.94 2.06-2.06.94z\"/><path d=\"M17.41 7.96l-1.37-1.37c-.4-.4-.92-.59-1.43-.59-.52 0-1.04.2-1.43.59L10.3 9.45l-7.72 7.72c-.78.78-.78 2.05 0 2.83L4 21.41c.39.39.9.59 1.41.59.51 0 1.02-.2 1.41-.59l7.78-7.78 2.81-2.81c.8-.78.8-2.07 0-2.86zM5.41 20L4 18.59l7.72-7.72 1.47 1.35L5.41 20z\"/>\n",
              "  </svg>\n",
              "      </button>\n",
              "      \n",
              "  <style>\n",
              "    .colab-df-container {\n",
              "      display:flex;\n",
              "      flex-wrap:wrap;\n",
              "      gap: 12px;\n",
              "    }\n",
              "\n",
              "    .colab-df-convert {\n",
              "      background-color: #E8F0FE;\n",
              "      border: none;\n",
              "      border-radius: 50%;\n",
              "      cursor: pointer;\n",
              "      display: none;\n",
              "      fill: #1967D2;\n",
              "      height: 32px;\n",
              "      padding: 0 0 0 0;\n",
              "      width: 32px;\n",
              "    }\n",
              "\n",
              "    .colab-df-convert:hover {\n",
              "      background-color: #E2EBFA;\n",
              "      box-shadow: 0px 1px 2px rgba(60, 64, 67, 0.3), 0px 1px 3px 1px rgba(60, 64, 67, 0.15);\n",
              "      fill: #174EA6;\n",
              "    }\n",
              "\n",
              "    [theme=dark] .colab-df-convert {\n",
              "      background-color: #3B4455;\n",
              "      fill: #D2E3FC;\n",
              "    }\n",
              "\n",
              "    [theme=dark] .colab-df-convert:hover {\n",
              "      background-color: #434B5C;\n",
              "      box-shadow: 0px 1px 3px 1px rgba(0, 0, 0, 0.15);\n",
              "      filter: drop-shadow(0px 1px 2px rgba(0, 0, 0, 0.3));\n",
              "      fill: #FFFFFF;\n",
              "    }\n",
              "  </style>\n",
              "\n",
              "      <script>\n",
              "        const buttonEl =\n",
              "          document.querySelector('#df-deaf179d-d5cb-4d90-b69a-4b57149e25f8 button.colab-df-convert');\n",
              "        buttonEl.style.display =\n",
              "          google.colab.kernel.accessAllowed ? 'block' : 'none';\n",
              "\n",
              "        async function convertToInteractive(key) {\n",
              "          const element = document.querySelector('#df-deaf179d-d5cb-4d90-b69a-4b57149e25f8');\n",
              "          const dataTable =\n",
              "            await google.colab.kernel.invokeFunction('convertToInteractive',\n",
              "                                                     [key], {});\n",
              "          if (!dataTable) return;\n",
              "\n",
              "          const docLinkHtml = 'Like what you see? Visit the ' +\n",
              "            '<a target=\"_blank\" href=https://colab.research.google.com/notebooks/data_table.ipynb>data table notebook</a>'\n",
              "            + ' to learn more about interactive tables.';\n",
              "          element.innerHTML = '';\n",
              "          dataTable['output_type'] = 'display_data';\n",
              "          await google.colab.output.renderOutput(dataTable, element);\n",
              "          const docLink = document.createElement('div');\n",
              "          docLink.innerHTML = docLinkHtml;\n",
              "          element.appendChild(docLink);\n",
              "        }\n",
              "      </script>\n",
              "    </div>\n",
              "  </div>\n",
              "  "
            ]
          },
          "metadata": {},
          "execution_count": 4
        }
      ]
    },
    {
      "cell_type": "code",
      "source": [
        "df.info()"
      ],
      "metadata": {
        "colab": {
          "base_uri": "https://localhost:8080/"
        },
        "id": "gh8c1irc7tJ-",
        "outputId": "8db542b8-0376-4ab4-8569-2d0fe3e3ee34"
      },
      "execution_count": null,
      "outputs": [
        {
          "output_type": "stream",
          "name": "stdout",
          "text": [
            "<class 'pandas.core.frame.DataFrame'>\n",
            "RangeIndex: 12379 entries, 0 to 12378\n",
            "Data columns (total 31 columns):\n",
            " #   Column                                Non-Null Count  Dtype \n",
            "---  ------                                --------------  ----- \n",
            " 0   offer expiration                      12379 non-null  object\n",
            " 1   income_range                          12379 non-null  object\n",
            " 2   no_visited_Cold drinks                12181 non-null  object\n",
            " 3   travelled_more_than_15mins_for_offer  12379 non-null  int64 \n",
            " 4   Restaur_spend_less_than20             12258 non-null  object\n",
            " 5   Marital Status                        12379 non-null  object\n",
            " 6   restaurant type                       12379 non-null  object\n",
            " 7   age                                   12379 non-null  object\n",
            " 8   Prefer western over chinese           12379 non-null  int64 \n",
            " 9   travelled_more_than_25mins_for_offer  12379 non-null  int64 \n",
            " 10  travelled_more_than_5mins_for_offer   12379 non-null  int64 \n",
            " 11  no_visited_bars                       12286 non-null  object\n",
            " 12  gender                                12379 non-null  object\n",
            " 13  car                                   111 non-null    object\n",
            " 14  restuarant_same_direction_house       12379 non-null  int64 \n",
            " 15  Cooks regularly                       12379 non-null  int64 \n",
            " 16  Customer type                         12379 non-null  object\n",
            " 17  Qualification                         12379 non-null  object\n",
            " 18  is foodie                             12379 non-null  int64 \n",
            " 19  no_Take-aways                         12235 non-null  object\n",
            " 20  Job/Job Industry                      12379 non-null  object\n",
            " 21  restuarant_opposite_direction_house   12379 non-null  int64 \n",
            " 22  has Children                          12379 non-null  int64 \n",
            " 23  visit restaurant with rating (avg)    12379 non-null  int64 \n",
            " 24  temperature                           12379 non-null  int64 \n",
            " 25  Restaur_spend_greater_than20          12219 non-null  object\n",
            " 26  Travel Time                           12379 non-null  int64 \n",
            " 27  Climate                               12379 non-null  object\n",
            " 28  drop location                         12379 non-null  object\n",
            " 29  Prefer home food                      12379 non-null  int64 \n",
            " 30  Offer Accepted                        12379 non-null  object\n",
            "dtypes: int64(13), object(18)\n",
            "memory usage: 2.9+ MB\n"
          ]
        }
      ]
    },
    {
      "cell_type": "markdown",
      "source": [
        "data_dictionary = {'offer expiration':'Number of days offer is valid,\n",
        "\n",
        "'income_range': 'income range',\n",
        "\n",
        "'no_visited_Cold drinks':'Number of times visited cold drinks',\n",
        "\n",
        "'travelled_more_than_15mins_for_offer':'Have you traveled more than 15 mins to avail an offer?',\n",
        "\n",
        "'Restaur_spend_less_than20': 'Number of times spend less than 20 dollar in restaurant,\n",
        "\n",
        "'Marital Status': 'Marital status',\n",
        "\n",
        "'restaurant type': 'type of restaurant',\n",
        "\n",
        "'age': 'age',\n",
        "\n",
        "'Prefer western over Chinese: 'Do you Prefer western over chinese'',\n",
        "\n",
        "'travelled_more_than_25mins_for_offer': 'Have you traveled more than 25 mins to avail an offer?',\n",
        "\n",
        "'travelled_more_than_5mins_for_offer': 'Have you traveled more than 5 mins to avail an offer?',\n",
        "\n",
        "'no_visited_bars': 'Number of times visited bar',\n",
        "\n",
        "'gender': 'gender',\n",
        "\n",
        "'car': 'type of vehicle do you use in your own words',\n",
        "\n",
        "'restuarant_same_direction_house',\n",
        "\n",
        "'Cooks regularly': 'Do you cook regularly?',\n",
        "\n",
        "'Customer type': 'Whom do you prefer to go with?',\n",
        "\n",
        "'Qualification': 'Qualification',\n",
        "\n",
        "'is foodie': 'Is foodie',\n",
        "\n",
        "'no_Take-aways': 'Number of times opted for take-away',\n",
        "\n",
        "'Job/Job Industry': 'Type of industry you work with',\n",
        "\n",
        "'restuarant_opposite_direction_house': 'is the coupon offered restaurant located opposite direction to your house?',\n",
        "\n",
        "'has Children':'Do you have children?',\n",
        "\n",
        "'visit restaurant with rating (avg)': 'average rating of the restaurant which gave offer',\n",
        "\n",
        "'temperature':'current temperature',\n",
        "\n",
        "'Restaur_spend_greater_than20': 'Number of times spend greater than 20 dollar in restuarant',\n",
        "\n",
        "'Travel Time': 'travel time for the restaurant which gave offer',\n",
        "\n",
        "'Climate': 'current climate',\n",
        "\n",
        "'drop location': 'where are you heading to?',\n",
        "\n",
        "'Prefer home food': 'Do you prefer home food?',\n",
        "\n",
        "'Offer Accepted': ' Did you accept the offer?'}\n",
        "\n",
        "Target Variable: Offer Accepted"
      ],
      "metadata": {
        "id": "DjEAJaEFCj1O"
      }
    },
    {
      "cell_type": "code",
      "source": [
        "df[df.columns[df.isna().any()]].head()"
      ],
      "metadata": {
        "colab": {
          "base_uri": "https://localhost:8080/",
          "height": 206
        },
        "id": "Ooa-SIHMB_Gy",
        "outputId": "d1237ea1-797c-4bce-8e5d-b66d4f344114"
      },
      "execution_count": null,
      "outputs": [
        {
          "output_type": "execute_result",
          "data": {
            "text/plain": [
              "  no_visited_Cold drinks Restaur_spend_less_than20 no_visited_bars     car  \\\n",
              "0                    4~8                     less1           less1     NaN   \n",
              "1                    4~8                       4~8           never     NaN   \n",
              "2                  less1                       1~3           never  Mazda5   \n",
              "3                  less1                       1~3           never     NaN   \n",
              "4                  never                       1~3           less1     NaN   \n",
              "\n",
              "  no_Take-aways Restaur_spend_greater_than20  \n",
              "0           1~3                        less1  \n",
              "1           1~3                          1~3  \n",
              "2           1~3                        less1  \n",
              "3           1~3                          1~3  \n",
              "4           gt8                        less1  "
            ],
            "text/html": [
              "\n",
              "  <div id=\"df-21341b7f-dd3a-4879-9a6d-066bb6a76976\">\n",
              "    <div class=\"colab-df-container\">\n",
              "      <div>\n",
              "<style scoped>\n",
              "    .dataframe tbody tr th:only-of-type {\n",
              "        vertical-align: middle;\n",
              "    }\n",
              "\n",
              "    .dataframe tbody tr th {\n",
              "        vertical-align: top;\n",
              "    }\n",
              "\n",
              "    .dataframe thead th {\n",
              "        text-align: right;\n",
              "    }\n",
              "</style>\n",
              "<table border=\"1\" class=\"dataframe\">\n",
              "  <thead>\n",
              "    <tr style=\"text-align: right;\">\n",
              "      <th></th>\n",
              "      <th>no_visited_Cold drinks</th>\n",
              "      <th>Restaur_spend_less_than20</th>\n",
              "      <th>no_visited_bars</th>\n",
              "      <th>car</th>\n",
              "      <th>no_Take-aways</th>\n",
              "      <th>Restaur_spend_greater_than20</th>\n",
              "    </tr>\n",
              "  </thead>\n",
              "  <tbody>\n",
              "    <tr>\n",
              "      <th>0</th>\n",
              "      <td>4~8</td>\n",
              "      <td>less1</td>\n",
              "      <td>less1</td>\n",
              "      <td>NaN</td>\n",
              "      <td>1~3</td>\n",
              "      <td>less1</td>\n",
              "    </tr>\n",
              "    <tr>\n",
              "      <th>1</th>\n",
              "      <td>4~8</td>\n",
              "      <td>4~8</td>\n",
              "      <td>never</td>\n",
              "      <td>NaN</td>\n",
              "      <td>1~3</td>\n",
              "      <td>1~3</td>\n",
              "    </tr>\n",
              "    <tr>\n",
              "      <th>2</th>\n",
              "      <td>less1</td>\n",
              "      <td>1~3</td>\n",
              "      <td>never</td>\n",
              "      <td>Mazda5</td>\n",
              "      <td>1~3</td>\n",
              "      <td>less1</td>\n",
              "    </tr>\n",
              "    <tr>\n",
              "      <th>3</th>\n",
              "      <td>less1</td>\n",
              "      <td>1~3</td>\n",
              "      <td>never</td>\n",
              "      <td>NaN</td>\n",
              "      <td>1~3</td>\n",
              "      <td>1~3</td>\n",
              "    </tr>\n",
              "    <tr>\n",
              "      <th>4</th>\n",
              "      <td>never</td>\n",
              "      <td>1~3</td>\n",
              "      <td>less1</td>\n",
              "      <td>NaN</td>\n",
              "      <td>gt8</td>\n",
              "      <td>less1</td>\n",
              "    </tr>\n",
              "  </tbody>\n",
              "</table>\n",
              "</div>\n",
              "      <button class=\"colab-df-convert\" onclick=\"convertToInteractive('df-21341b7f-dd3a-4879-9a6d-066bb6a76976')\"\n",
              "              title=\"Convert this dataframe to an interactive table.\"\n",
              "              style=\"display:none;\">\n",
              "        \n",
              "  <svg xmlns=\"http://www.w3.org/2000/svg\" height=\"24px\"viewBox=\"0 0 24 24\"\n",
              "       width=\"24px\">\n",
              "    <path d=\"M0 0h24v24H0V0z\" fill=\"none\"/>\n",
              "    <path d=\"M18.56 5.44l.94 2.06.94-2.06 2.06-.94-2.06-.94-.94-2.06-.94 2.06-2.06.94zm-11 1L8.5 8.5l.94-2.06 2.06-.94-2.06-.94L8.5 2.5l-.94 2.06-2.06.94zm10 10l.94 2.06.94-2.06 2.06-.94-2.06-.94-.94-2.06-.94 2.06-2.06.94z\"/><path d=\"M17.41 7.96l-1.37-1.37c-.4-.4-.92-.59-1.43-.59-.52 0-1.04.2-1.43.59L10.3 9.45l-7.72 7.72c-.78.78-.78 2.05 0 2.83L4 21.41c.39.39.9.59 1.41.59.51 0 1.02-.2 1.41-.59l7.78-7.78 2.81-2.81c.8-.78.8-2.07 0-2.86zM5.41 20L4 18.59l7.72-7.72 1.47 1.35L5.41 20z\"/>\n",
              "  </svg>\n",
              "      </button>\n",
              "      \n",
              "  <style>\n",
              "    .colab-df-container {\n",
              "      display:flex;\n",
              "      flex-wrap:wrap;\n",
              "      gap: 12px;\n",
              "    }\n",
              "\n",
              "    .colab-df-convert {\n",
              "      background-color: #E8F0FE;\n",
              "      border: none;\n",
              "      border-radius: 50%;\n",
              "      cursor: pointer;\n",
              "      display: none;\n",
              "      fill: #1967D2;\n",
              "      height: 32px;\n",
              "      padding: 0 0 0 0;\n",
              "      width: 32px;\n",
              "    }\n",
              "\n",
              "    .colab-df-convert:hover {\n",
              "      background-color: #E2EBFA;\n",
              "      box-shadow: 0px 1px 2px rgba(60, 64, 67, 0.3), 0px 1px 3px 1px rgba(60, 64, 67, 0.15);\n",
              "      fill: #174EA6;\n",
              "    }\n",
              "\n",
              "    [theme=dark] .colab-df-convert {\n",
              "      background-color: #3B4455;\n",
              "      fill: #D2E3FC;\n",
              "    }\n",
              "\n",
              "    [theme=dark] .colab-df-convert:hover {\n",
              "      background-color: #434B5C;\n",
              "      box-shadow: 0px 1px 3px 1px rgba(0, 0, 0, 0.15);\n",
              "      filter: drop-shadow(0px 1px 2px rgba(0, 0, 0, 0.3));\n",
              "      fill: #FFFFFF;\n",
              "    }\n",
              "  </style>\n",
              "\n",
              "      <script>\n",
              "        const buttonEl =\n",
              "          document.querySelector('#df-21341b7f-dd3a-4879-9a6d-066bb6a76976 button.colab-df-convert');\n",
              "        buttonEl.style.display =\n",
              "          google.colab.kernel.accessAllowed ? 'block' : 'none';\n",
              "\n",
              "        async function convertToInteractive(key) {\n",
              "          const element = document.querySelector('#df-21341b7f-dd3a-4879-9a6d-066bb6a76976');\n",
              "          const dataTable =\n",
              "            await google.colab.kernel.invokeFunction('convertToInteractive',\n",
              "                                                     [key], {});\n",
              "          if (!dataTable) return;\n",
              "\n",
              "          const docLinkHtml = 'Like what you see? Visit the ' +\n",
              "            '<a target=\"_blank\" href=https://colab.research.google.com/notebooks/data_table.ipynb>data table notebook</a>'\n",
              "            + ' to learn more about interactive tables.';\n",
              "          element.innerHTML = '';\n",
              "          dataTable['output_type'] = 'display_data';\n",
              "          await google.colab.output.renderOutput(dataTable, element);\n",
              "          const docLink = document.createElement('div');\n",
              "          docLink.innerHTML = docLinkHtml;\n",
              "          element.appendChild(docLink);\n",
              "        }\n",
              "      </script>\n",
              "    </div>\n",
              "  </div>\n",
              "  "
            ]
          },
          "metadata": {},
          "execution_count": 6
        }
      ]
    },
    {
      "cell_type": "code",
      "source": [
        "df[df.columns[df.isna().any()]].info()"
      ],
      "metadata": {
        "colab": {
          "base_uri": "https://localhost:8080/"
        },
        "id": "mQ0UB_17-Rws",
        "outputId": "5654f57c-732e-4cb2-b85e-f857095f522d"
      },
      "execution_count": null,
      "outputs": [
        {
          "output_type": "stream",
          "name": "stdout",
          "text": [
            "<class 'pandas.core.frame.DataFrame'>\n",
            "RangeIndex: 12379 entries, 0 to 12378\n",
            "Data columns (total 6 columns):\n",
            " #   Column                        Non-Null Count  Dtype \n",
            "---  ------                        --------------  ----- \n",
            " 0   no_visited_Cold drinks        12181 non-null  object\n",
            " 1   Restaur_spend_less_than20     12258 non-null  object\n",
            " 2   no_visited_bars               12286 non-null  object\n",
            " 3   car                           111 non-null    object\n",
            " 4   no_Take-aways                 12235 non-null  object\n",
            " 5   Restaur_spend_greater_than20  12219 non-null  object\n",
            "dtypes: object(6)\n",
            "memory usage: 580.4+ KB\n"
          ]
        }
      ]
    },
    {
      "cell_type": "code",
      "source": [
        "df['car'] = df['car'].replace(np.nan, 'No_vehicle')"
      ],
      "metadata": {
        "id": "sbdpZdb-E6Vw"
      },
      "execution_count": null,
      "outputs": []
    },
    {
      "cell_type": "code",
      "source": [
        "df['car'].head()"
      ],
      "metadata": {
        "colab": {
          "base_uri": "https://localhost:8080/"
        },
        "id": "4kafMos5FiYh",
        "outputId": "e6a4ffff-0ff0-4679-99b4-661fd091ba64"
      },
      "execution_count": null,
      "outputs": [
        {
          "output_type": "execute_result",
          "data": {
            "text/plain": [
              "0    No_vehicle\n",
              "1    No_vehicle\n",
              "2        Mazda5\n",
              "3    No_vehicle\n",
              "4    No_vehicle\n",
              "Name: car, dtype: object"
            ]
          },
          "metadata": {},
          "execution_count": 9
        }
      ]
    },
    {
      "cell_type": "code",
      "source": [
        "df[df.columns[df.isna().any()]].info()"
      ],
      "metadata": {
        "colab": {
          "base_uri": "https://localhost:8080/"
        },
        "id": "L693ZRFdGuYg",
        "outputId": "2247b235-7916-423d-9ba3-90d41e755b9a"
      },
      "execution_count": null,
      "outputs": [
        {
          "output_type": "stream",
          "name": "stdout",
          "text": [
            "<class 'pandas.core.frame.DataFrame'>\n",
            "RangeIndex: 12379 entries, 0 to 12378\n",
            "Data columns (total 5 columns):\n",
            " #   Column                        Non-Null Count  Dtype \n",
            "---  ------                        --------------  ----- \n",
            " 0   no_visited_Cold drinks        12181 non-null  object\n",
            " 1   Restaur_spend_less_than20     12258 non-null  object\n",
            " 2   no_visited_bars               12286 non-null  object\n",
            " 3   no_Take-aways                 12235 non-null  object\n",
            " 4   Restaur_spend_greater_than20  12219 non-null  object\n",
            "dtypes: object(5)\n",
            "memory usage: 483.7+ KB\n"
          ]
        }
      ]
    },
    {
      "cell_type": "code",
      "source": [
        "df = df.dropna()"
      ],
      "metadata": {
        "id": "zWAWzXKdG7Fh"
      },
      "execution_count": null,
      "outputs": []
    },
    {
      "cell_type": "code",
      "source": [
        "df.info()"
      ],
      "metadata": {
        "colab": {
          "base_uri": "https://localhost:8080/"
        },
        "id": "bAzy9-4AHIXm",
        "outputId": "b6d12cf8-400e-4ba8-8444-00f3d2a5b533"
      },
      "execution_count": null,
      "outputs": [
        {
          "output_type": "stream",
          "name": "stdout",
          "text": [
            "<class 'pandas.core.frame.DataFrame'>\n",
            "Int64Index: 11802 entries, 0 to 12378\n",
            "Data columns (total 31 columns):\n",
            " #   Column                                Non-Null Count  Dtype \n",
            "---  ------                                --------------  ----- \n",
            " 0   offer expiration                      11802 non-null  object\n",
            " 1   income_range                          11802 non-null  object\n",
            " 2   no_visited_Cold drinks                11802 non-null  object\n",
            " 3   travelled_more_than_15mins_for_offer  11802 non-null  int64 \n",
            " 4   Restaur_spend_less_than20             11802 non-null  object\n",
            " 5   Marital Status                        11802 non-null  object\n",
            " 6   restaurant type                       11802 non-null  object\n",
            " 7   age                                   11802 non-null  object\n",
            " 8   Prefer western over chinese           11802 non-null  int64 \n",
            " 9   travelled_more_than_25mins_for_offer  11802 non-null  int64 \n",
            " 10  travelled_more_than_5mins_for_offer   11802 non-null  int64 \n",
            " 11  no_visited_bars                       11802 non-null  object\n",
            " 12  gender                                11802 non-null  object\n",
            " 13  car                                   11802 non-null  object\n",
            " 14  restuarant_same_direction_house       11802 non-null  int64 \n",
            " 15  Cooks regularly                       11802 non-null  int64 \n",
            " 16  Customer type                         11802 non-null  object\n",
            " 17  Qualification                         11802 non-null  object\n",
            " 18  is foodie                             11802 non-null  int64 \n",
            " 19  no_Take-aways                         11802 non-null  object\n",
            " 20  Job/Job Industry                      11802 non-null  object\n",
            " 21  restuarant_opposite_direction_house   11802 non-null  int64 \n",
            " 22  has Children                          11802 non-null  int64 \n",
            " 23  visit restaurant with rating (avg)    11802 non-null  int64 \n",
            " 24  temperature                           11802 non-null  int64 \n",
            " 25  Restaur_spend_greater_than20          11802 non-null  object\n",
            " 26  Travel Time                           11802 non-null  int64 \n",
            " 27  Climate                               11802 non-null  object\n",
            " 28  drop location                         11802 non-null  object\n",
            " 29  Prefer home food                      11802 non-null  int64 \n",
            " 30  Offer Accepted                        11802 non-null  object\n",
            "dtypes: int64(13), object(18)\n",
            "memory usage: 2.9+ MB\n"
          ]
        }
      ]
    },
    {
      "cell_type": "code",
      "source": [
        "ese_hi = df['income_range'].replace('Less than ₹12500', 12500)\n",
        "ese_hi = list(ese_hi.replace('₹100000 or More', 100000))"
      ],
      "metadata": {
        "id": "0xqOMlavnTF_"
      },
      "execution_count": null,
      "outputs": []
    },
    {
      "cell_type": "code",
      "source": [
        "from pandas.core.arrays.sparse import dtype\n",
        "sjnsdkj = []\n",
        "for i in ese_hi:\n",
        "  if type(i) == str:\n",
        "    sjnsdkj.append(i.split(' - '))\n",
        "  else:\n",
        "    sjnsdkj.append(i)\n",
        "sjnsdkj[:10]"
      ],
      "metadata": {
        "colab": {
          "base_uri": "https://localhost:8080/"
        },
        "id": "2Zg18Pn9ndLK",
        "outputId": "4d77d54c-9f96-4f2c-e8a6-677967d381c0"
      },
      "execution_count": null,
      "outputs": [
        {
          "output_type": "execute_result",
          "data": {
            "text/plain": [
              "[100000,\n",
              " ['₹87500', '₹99999'],\n",
              " ['₹87500', '₹99999'],\n",
              " ['₹37500', '₹49999'],\n",
              " 100000,\n",
              " 12500,\n",
              " 12500,\n",
              " ['₹50000', '₹62499'],\n",
              " ['₹12500', '₹24999'],\n",
              " ['₹75000', '₹87499']]"
            ]
          },
          "metadata": {},
          "execution_count": 14
        }
      ]
    },
    {
      "cell_type": "code",
      "source": [
        "income_avg = []\n",
        "for i in sjnsdkj:\n",
        "  avg = 0\n",
        "  if type(i) == list:\n",
        "    avg = (int(i[0][1:]) + int(i[1][1:]))/2\n",
        "    income_avg.append(avg)\n",
        "  else:\n",
        "    income_avg.append(i)\n",
        "income_avg[:10]"
      ],
      "metadata": {
        "colab": {
          "base_uri": "https://localhost:8080/"
        },
        "id": "o3gJAroSs3CV",
        "outputId": "a833dd2c-4013-4013-d8e4-2d4ae11d6034"
      },
      "execution_count": null,
      "outputs": [
        {
          "output_type": "execute_result",
          "data": {
            "text/plain": [
              "[100000,\n",
              " 93749.5,\n",
              " 93749.5,\n",
              " 43749.5,\n",
              " 100000,\n",
              " 12500,\n",
              " 12500,\n",
              " 56249.5,\n",
              " 18749.5,\n",
              " 81249.5]"
            ]
          },
          "metadata": {},
          "execution_count": 15
        }
      ]
    },
    {
      "cell_type": "code",
      "source": [
        "df['income_range'] = income_avg"
      ],
      "metadata": {
        "id": "MVNxTXxSnVlm",
        "colab": {
          "base_uri": "https://localhost:8080/"
        },
        "outputId": "0cac5b34-23eb-4da7-c49b-d8087df5ef88"
      },
      "execution_count": null,
      "outputs": [
        {
          "output_type": "stream",
          "name": "stderr",
          "text": [
            "<ipython-input-16-8a473cd088cd>:1: SettingWithCopyWarning: \n",
            "A value is trying to be set on a copy of a slice from a DataFrame.\n",
            "Try using .loc[row_indexer,col_indexer] = value instead\n",
            "\n",
            "See the caveats in the documentation: https://pandas.pydata.org/pandas-docs/stable/user_guide/indexing.html#returning-a-view-versus-a-copy\n",
            "  df['income_range'] = income_avg\n"
          ]
        }
      ]
    },
    {
      "cell_type": "code",
      "source": [
        "df['no_visited_Cold drinks'].unique()"
      ],
      "metadata": {
        "colab": {
          "base_uri": "https://localhost:8080/"
        },
        "id": "zc6OFFRfpWPZ",
        "outputId": "07e18f0b-89c4-42b3-824e-864de1560ebc"
      },
      "execution_count": null,
      "outputs": [
        {
          "output_type": "execute_result",
          "data": {
            "text/plain": [
              "array(['4~8', 'less1', 'never', '1~3', 'gt8'], dtype=object)"
            ]
          },
          "metadata": {},
          "execution_count": 17
        }
      ]
    },
    {
      "cell_type": "code",
      "source": [
        "df['no_visited_Cold drinks'] = df['no_visited_Cold drinks'].replace('4~8', (4+8)/2)\n",
        "df['no_visited_Cold drinks'] = df['no_visited_Cold drinks'].replace('less1', float(1))\n",
        "df['no_visited_Cold drinks'] = df['no_visited_Cold drinks'].replace('never', float(0))\n",
        "df['no_visited_Cold drinks'] = df['no_visited_Cold drinks'].replace('gt8', float(8))\n",
        "df['no_visited_Cold drinks'] = df['no_visited_Cold drinks'].replace('1~3', (1+3)/2)"
      ],
      "metadata": {
        "id": "alCP0Ozdp_Wh"
      },
      "execution_count": null,
      "outputs": []
    },
    {
      "cell_type": "code",
      "source": [
        "df['Restaur_spend_less_than20'].unique()"
      ],
      "metadata": {
        "colab": {
          "base_uri": "https://localhost:8080/"
        },
        "id": "e3toptK4rBiD",
        "outputId": "7b57fdd7-5a62-4323-a53f-a12d2ff51cb4"
      },
      "execution_count": null,
      "outputs": [
        {
          "output_type": "execute_result",
          "data": {
            "text/plain": [
              "array([1., 6., 2., 8., 0.])"
            ]
          },
          "metadata": {},
          "execution_count": 50
        }
      ]
    },
    {
      "cell_type": "code",
      "source": [
        "df['Restaur_spend_less_than20'] = df['Restaur_spend_less_than20'].replace('4~8', (4+8)/2)\n",
        "df['Restaur_spend_less_than20'] = df['Restaur_spend_less_than20'].replace('less1', 1)\n",
        "df['Restaur_spend_less_than20'] = df['Restaur_spend_less_than20'].replace('never', 0)\n",
        "df['Restaur_spend_less_than20'] = df['Restaur_spend_less_than20'].replace('gt8', 8)\n",
        "df['Restaur_spend_less_than20'] = df['Restaur_spend_less_than20'].replace('1~3', (1+3)/2)"
      ],
      "metadata": {
        "id": "vq34LOI3rQ_l"
      },
      "execution_count": null,
      "outputs": []
    },
    {
      "cell_type": "code",
      "source": [
        "df['age'].unique()"
      ],
      "metadata": {
        "colab": {
          "base_uri": "https://localhost:8080/"
        },
        "id": "xTb5oZxXutka",
        "outputId": "52ca5a28-d5c3-44e6-f356-74c89eafda76"
      },
      "execution_count": null,
      "outputs": [
        {
          "output_type": "execute_result",
          "data": {
            "text/plain": [
              "array(['36', '50plus', '26', '46', '21', 'below21', '41', '31'],\n",
              "      dtype=object)"
            ]
          },
          "metadata": {},
          "execution_count": 21
        }
      ]
    },
    {
      "cell_type": "code",
      "source": [
        "df['age'] = df['age'].replace('50plus', 50)\n",
        "df['age'] = df['age'].replace('below21', 20)\n",
        "df['age'] = df['age'].apply(pd.to_numeric)"
      ],
      "metadata": {
        "id": "WaJROWo_xSpX"
      },
      "execution_count": null,
      "outputs": []
    },
    {
      "cell_type": "code",
      "source": [
        "df['offer expiration'].unique()"
      ],
      "metadata": {
        "colab": {
          "base_uri": "https://localhost:8080/"
        },
        "id": "ZqU_MoymoxXX",
        "outputId": "0cb9a928-b6f0-4029-e379-b8b11a1ae051"
      },
      "execution_count": null,
      "outputs": [
        {
          "output_type": "execute_result",
          "data": {
            "text/plain": [
              "array(['2days', '10hours'], dtype=object)"
            ]
          },
          "metadata": {},
          "execution_count": 23
        }
      ]
    },
    {
      "cell_type": "code",
      "source": [
        "df['offer expiration'] = df['offer expiration'].replace('2days', 2*24)\n",
        "df['offer expiration'] = df['offer expiration'].replace('10hours', 10)"
      ],
      "metadata": {
        "id": "UufMgmwZpd78"
      },
      "execution_count": null,
      "outputs": []
    },
    {
      "cell_type": "code",
      "source": [
        "df['no_visited_bars'].unique()"
      ],
      "metadata": {
        "colab": {
          "base_uri": "https://localhost:8080/"
        },
        "id": "ixvvhswMq7pE",
        "outputId": "79030eec-4978-4dc2-c606-19ae3602c7b9"
      },
      "execution_count": null,
      "outputs": [
        {
          "output_type": "execute_result",
          "data": {
            "text/plain": [
              "array(['less1', 'never', '1~3', '4~8', 'gt8'], dtype=object)"
            ]
          },
          "metadata": {},
          "execution_count": 25
        }
      ]
    },
    {
      "cell_type": "code",
      "source": [
        "df['no_visited_bars'] = df['no_visited_bars'].replace('4~8', (4+8)/2)\n",
        "df['no_visited_bars'] = df['no_visited_bars'].replace('less1', 1)\n",
        "df['no_visited_bars'] = df['no_visited_bars'].replace('never', 0)\n",
        "df['no_visited_bars'] = df['no_visited_bars'].replace('gt8', 8)\n",
        "df['no_visited_bars'] = df['no_visited_bars'].replace('1~3', (1+3)/2)"
      ],
      "metadata": {
        "id": "T_4dav5NrEBS"
      },
      "execution_count": null,
      "outputs": []
    },
    {
      "cell_type": "code",
      "source": [
        "df['no_Take-aways'].unique()"
      ],
      "metadata": {
        "colab": {
          "base_uri": "https://localhost:8080/"
        },
        "id": "5ePgU1lK33Ne",
        "outputId": "56a1a33b-7c00-4b29-88b8-56c43931ab45"
      },
      "execution_count": null,
      "outputs": [
        {
          "output_type": "execute_result",
          "data": {
            "text/plain": [
              "array(['1~3', 'gt8', '4~8', 'less1', 'never'], dtype=object)"
            ]
          },
          "metadata": {},
          "execution_count": 27
        }
      ]
    },
    {
      "cell_type": "code",
      "source": [
        "df['no_Take-aways'] = df['no_Take-aways'].replace('4~8', (4+8)/2)\n",
        "df['no_Take-aways'] = df['no_Take-aways'].replace('less1', 1)\n",
        "df['no_Take-aways'] = df['no_Take-aways'].replace('never', 0)\n",
        "df['no_Take-aways'] = df['no_Take-aways'].replace('gt8', 8)\n",
        "df['no_Take-aways'] = df['no_Take-aways'].replace('1~3', (1+3)/2)"
      ],
      "metadata": {
        "id": "nLOosJ8R4KZH"
      },
      "execution_count": null,
      "outputs": []
    },
    {
      "cell_type": "code",
      "source": [
        "df['Restaur_spend_greater_than20'].unique()"
      ],
      "metadata": {
        "colab": {
          "base_uri": "https://localhost:8080/"
        },
        "id": "WDhJlMK_5CPw",
        "outputId": "b7701cd5-18e8-4b5c-ee23-2b3b1b4300d6"
      },
      "execution_count": null,
      "outputs": [
        {
          "output_type": "execute_result",
          "data": {
            "text/plain": [
              "array(['less1', '1~3', 'never', 'gt8', '4~8'], dtype=object)"
            ]
          },
          "metadata": {},
          "execution_count": 29
        }
      ]
    },
    {
      "cell_type": "code",
      "source": [
        "df['Restaur_spend_greater_than20'] = df['Restaur_spend_greater_than20'].replace('4~8', (4+8)/2)\n",
        "df['Restaur_spend_greater_than20'] = df['Restaur_spend_greater_than20'].replace('less1', 1)\n",
        "df['Restaur_spend_greater_than20'] = df['Restaur_spend_greater_than20'].replace('never', 0)\n",
        "df['Restaur_spend_greater_than20'] = df['Restaur_spend_greater_than20'].replace('gt8', 8)\n",
        "df['Restaur_spend_greater_than20'] = df['Restaur_spend_greater_than20'].replace('1~3', (1+3)/2)"
      ],
      "metadata": {
        "id": "Xm_wJaQl5QML"
      },
      "execution_count": null,
      "outputs": []
    },
    {
      "cell_type": "code",
      "source": [
        "df.head()"
      ],
      "metadata": {
        "colab": {
          "base_uri": "https://localhost:8080/",
          "height": 456
        },
        "id": "9xIVudzzqdjz",
        "outputId": "ece606e4-7684-4b8c-f839-fd6935e99984"
      },
      "execution_count": null,
      "outputs": [
        {
          "output_type": "execute_result",
          "data": {
            "text/plain": [
              "   offer expiration  income_range  no_visited_Cold drinks  \\\n",
              "0                48      100000.0                     6.0   \n",
              "1                48       93749.5                     6.0   \n",
              "2                48       93749.5                     1.0   \n",
              "3                10       43749.5                     1.0   \n",
              "4                48      100000.0                     0.0   \n",
              "\n",
              "   travelled_more_than_15mins_for_offer  Restaur_spend_less_than20  \\\n",
              "0                                     1                        1.0   \n",
              "1                                     0                        6.0   \n",
              "2                                     1                        2.0   \n",
              "3                                     0                        2.0   \n",
              "4                                     1                        2.0   \n",
              "\n",
              "    Marital Status       restaurant type  age  Prefer western over chinese  \\\n",
              "0  Married partner     4 star restaurant   36                            0   \n",
              "1  Married partner  Take-away restaurant   50                            0   \n",
              "2           Single           Cold drinks   26                            1   \n",
              "3           Single  Take-away restaurant   46                            1   \n",
              "4           Single     4 star restaurant   21                            0   \n",
              "\n",
              "   travelled_more_than_25mins_for_offer  ...  \\\n",
              "0                                     0  ...   \n",
              "1                                     0  ...   \n",
              "2                                     0  ...   \n",
              "3                                     0  ...   \n",
              "4                                     1  ...   \n",
              "\n",
              "   restuarant_opposite_direction_house  has Children  \\\n",
              "0                                    0             0   \n",
              "1                                    0             1   \n",
              "2                                    1             1   \n",
              "3                                    0             1   \n",
              "4                                    1             0   \n",
              "\n",
              "  visit restaurant with rating (avg) temperature  \\\n",
              "0                                  4          67   \n",
              "1                                  3          89   \n",
              "2                                  4          67   \n",
              "3                                  3          89   \n",
              "4                                  3          40   \n",
              "\n",
              "   Restaur_spend_greater_than20  Travel Time Climate drop location  \\\n",
              "0                           1.0           22  Spring    Location B   \n",
              "1                           2.0           18  Summer    Location B   \n",
              "2                           1.0            7  Winter    Location A   \n",
              "3                           2.0            7  Summer    Location C   \n",
              "4                           1.0            7  Summer    Location C   \n",
              "\n",
              "   Prefer home food  Offer Accepted  \n",
              "0                 0              No  \n",
              "1                 0             Yes  \n",
              "2                 1             Yes  \n",
              "3                 0              No  \n",
              "4                 0              No  \n",
              "\n",
              "[5 rows x 31 columns]"
            ],
            "text/html": [
              "\n",
              "  <div id=\"df-4c873258-acdb-47be-a346-0aea8020f4aa\">\n",
              "    <div class=\"colab-df-container\">\n",
              "      <div>\n",
              "<style scoped>\n",
              "    .dataframe tbody tr th:only-of-type {\n",
              "        vertical-align: middle;\n",
              "    }\n",
              "\n",
              "    .dataframe tbody tr th {\n",
              "        vertical-align: top;\n",
              "    }\n",
              "\n",
              "    .dataframe thead th {\n",
              "        text-align: right;\n",
              "    }\n",
              "</style>\n",
              "<table border=\"1\" class=\"dataframe\">\n",
              "  <thead>\n",
              "    <tr style=\"text-align: right;\">\n",
              "      <th></th>\n",
              "      <th>offer expiration</th>\n",
              "      <th>income_range</th>\n",
              "      <th>no_visited_Cold drinks</th>\n",
              "      <th>travelled_more_than_15mins_for_offer</th>\n",
              "      <th>Restaur_spend_less_than20</th>\n",
              "      <th>Marital Status</th>\n",
              "      <th>restaurant type</th>\n",
              "      <th>age</th>\n",
              "      <th>Prefer western over chinese</th>\n",
              "      <th>travelled_more_than_25mins_for_offer</th>\n",
              "      <th>...</th>\n",
              "      <th>restuarant_opposite_direction_house</th>\n",
              "      <th>has Children</th>\n",
              "      <th>visit restaurant with rating (avg)</th>\n",
              "      <th>temperature</th>\n",
              "      <th>Restaur_spend_greater_than20</th>\n",
              "      <th>Travel Time</th>\n",
              "      <th>Climate</th>\n",
              "      <th>drop location</th>\n",
              "      <th>Prefer home food</th>\n",
              "      <th>Offer Accepted</th>\n",
              "    </tr>\n",
              "  </thead>\n",
              "  <tbody>\n",
              "    <tr>\n",
              "      <th>0</th>\n",
              "      <td>48</td>\n",
              "      <td>100000.0</td>\n",
              "      <td>6.0</td>\n",
              "      <td>1</td>\n",
              "      <td>1.0</td>\n",
              "      <td>Married partner</td>\n",
              "      <td>4 star restaurant</td>\n",
              "      <td>36</td>\n",
              "      <td>0</td>\n",
              "      <td>0</td>\n",
              "      <td>...</td>\n",
              "      <td>0</td>\n",
              "      <td>0</td>\n",
              "      <td>4</td>\n",
              "      <td>67</td>\n",
              "      <td>1.0</td>\n",
              "      <td>22</td>\n",
              "      <td>Spring</td>\n",
              "      <td>Location B</td>\n",
              "      <td>0</td>\n",
              "      <td>No</td>\n",
              "    </tr>\n",
              "    <tr>\n",
              "      <th>1</th>\n",
              "      <td>48</td>\n",
              "      <td>93749.5</td>\n",
              "      <td>6.0</td>\n",
              "      <td>0</td>\n",
              "      <td>6.0</td>\n",
              "      <td>Married partner</td>\n",
              "      <td>Take-away restaurant</td>\n",
              "      <td>50</td>\n",
              "      <td>0</td>\n",
              "      <td>0</td>\n",
              "      <td>...</td>\n",
              "      <td>0</td>\n",
              "      <td>1</td>\n",
              "      <td>3</td>\n",
              "      <td>89</td>\n",
              "      <td>2.0</td>\n",
              "      <td>18</td>\n",
              "      <td>Summer</td>\n",
              "      <td>Location B</td>\n",
              "      <td>0</td>\n",
              "      <td>Yes</td>\n",
              "    </tr>\n",
              "    <tr>\n",
              "      <th>2</th>\n",
              "      <td>48</td>\n",
              "      <td>93749.5</td>\n",
              "      <td>1.0</td>\n",
              "      <td>1</td>\n",
              "      <td>2.0</td>\n",
              "      <td>Single</td>\n",
              "      <td>Cold drinks</td>\n",
              "      <td>26</td>\n",
              "      <td>1</td>\n",
              "      <td>0</td>\n",
              "      <td>...</td>\n",
              "      <td>1</td>\n",
              "      <td>1</td>\n",
              "      <td>4</td>\n",
              "      <td>67</td>\n",
              "      <td>1.0</td>\n",
              "      <td>7</td>\n",
              "      <td>Winter</td>\n",
              "      <td>Location A</td>\n",
              "      <td>1</td>\n",
              "      <td>Yes</td>\n",
              "    </tr>\n",
              "    <tr>\n",
              "      <th>3</th>\n",
              "      <td>10</td>\n",
              "      <td>43749.5</td>\n",
              "      <td>1.0</td>\n",
              "      <td>0</td>\n",
              "      <td>2.0</td>\n",
              "      <td>Single</td>\n",
              "      <td>Take-away restaurant</td>\n",
              "      <td>46</td>\n",
              "      <td>1</td>\n",
              "      <td>0</td>\n",
              "      <td>...</td>\n",
              "      <td>0</td>\n",
              "      <td>1</td>\n",
              "      <td>3</td>\n",
              "      <td>89</td>\n",
              "      <td>2.0</td>\n",
              "      <td>7</td>\n",
              "      <td>Summer</td>\n",
              "      <td>Location C</td>\n",
              "      <td>0</td>\n",
              "      <td>No</td>\n",
              "    </tr>\n",
              "    <tr>\n",
              "      <th>4</th>\n",
              "      <td>48</td>\n",
              "      <td>100000.0</td>\n",
              "      <td>0.0</td>\n",
              "      <td>1</td>\n",
              "      <td>2.0</td>\n",
              "      <td>Single</td>\n",
              "      <td>4 star restaurant</td>\n",
              "      <td>21</td>\n",
              "      <td>0</td>\n",
              "      <td>1</td>\n",
              "      <td>...</td>\n",
              "      <td>1</td>\n",
              "      <td>0</td>\n",
              "      <td>3</td>\n",
              "      <td>40</td>\n",
              "      <td>1.0</td>\n",
              "      <td>7</td>\n",
              "      <td>Summer</td>\n",
              "      <td>Location C</td>\n",
              "      <td>0</td>\n",
              "      <td>No</td>\n",
              "    </tr>\n",
              "  </tbody>\n",
              "</table>\n",
              "<p>5 rows × 31 columns</p>\n",
              "</div>\n",
              "      <button class=\"colab-df-convert\" onclick=\"convertToInteractive('df-4c873258-acdb-47be-a346-0aea8020f4aa')\"\n",
              "              title=\"Convert this dataframe to an interactive table.\"\n",
              "              style=\"display:none;\">\n",
              "        \n",
              "  <svg xmlns=\"http://www.w3.org/2000/svg\" height=\"24px\"viewBox=\"0 0 24 24\"\n",
              "       width=\"24px\">\n",
              "    <path d=\"M0 0h24v24H0V0z\" fill=\"none\"/>\n",
              "    <path d=\"M18.56 5.44l.94 2.06.94-2.06 2.06-.94-2.06-.94-.94-2.06-.94 2.06-2.06.94zm-11 1L8.5 8.5l.94-2.06 2.06-.94-2.06-.94L8.5 2.5l-.94 2.06-2.06.94zm10 10l.94 2.06.94-2.06 2.06-.94-2.06-.94-.94-2.06-.94 2.06-2.06.94z\"/><path d=\"M17.41 7.96l-1.37-1.37c-.4-.4-.92-.59-1.43-.59-.52 0-1.04.2-1.43.59L10.3 9.45l-7.72 7.72c-.78.78-.78 2.05 0 2.83L4 21.41c.39.39.9.59 1.41.59.51 0 1.02-.2 1.41-.59l7.78-7.78 2.81-2.81c.8-.78.8-2.07 0-2.86zM5.41 20L4 18.59l7.72-7.72 1.47 1.35L5.41 20z\"/>\n",
              "  </svg>\n",
              "      </button>\n",
              "      \n",
              "  <style>\n",
              "    .colab-df-container {\n",
              "      display:flex;\n",
              "      flex-wrap:wrap;\n",
              "      gap: 12px;\n",
              "    }\n",
              "\n",
              "    .colab-df-convert {\n",
              "      background-color: #E8F0FE;\n",
              "      border: none;\n",
              "      border-radius: 50%;\n",
              "      cursor: pointer;\n",
              "      display: none;\n",
              "      fill: #1967D2;\n",
              "      height: 32px;\n",
              "      padding: 0 0 0 0;\n",
              "      width: 32px;\n",
              "    }\n",
              "\n",
              "    .colab-df-convert:hover {\n",
              "      background-color: #E2EBFA;\n",
              "      box-shadow: 0px 1px 2px rgba(60, 64, 67, 0.3), 0px 1px 3px 1px rgba(60, 64, 67, 0.15);\n",
              "      fill: #174EA6;\n",
              "    }\n",
              "\n",
              "    [theme=dark] .colab-df-convert {\n",
              "      background-color: #3B4455;\n",
              "      fill: #D2E3FC;\n",
              "    }\n",
              "\n",
              "    [theme=dark] .colab-df-convert:hover {\n",
              "      background-color: #434B5C;\n",
              "      box-shadow: 0px 1px 3px 1px rgba(0, 0, 0, 0.15);\n",
              "      filter: drop-shadow(0px 1px 2px rgba(0, 0, 0, 0.3));\n",
              "      fill: #FFFFFF;\n",
              "    }\n",
              "  </style>\n",
              "\n",
              "      <script>\n",
              "        const buttonEl =\n",
              "          document.querySelector('#df-4c873258-acdb-47be-a346-0aea8020f4aa button.colab-df-convert');\n",
              "        buttonEl.style.display =\n",
              "          google.colab.kernel.accessAllowed ? 'block' : 'none';\n",
              "\n",
              "        async function convertToInteractive(key) {\n",
              "          const element = document.querySelector('#df-4c873258-acdb-47be-a346-0aea8020f4aa');\n",
              "          const dataTable =\n",
              "            await google.colab.kernel.invokeFunction('convertToInteractive',\n",
              "                                                     [key], {});\n",
              "          if (!dataTable) return;\n",
              "\n",
              "          const docLinkHtml = 'Like what you see? Visit the ' +\n",
              "            '<a target=\"_blank\" href=https://colab.research.google.com/notebooks/data_table.ipynb>data table notebook</a>'\n",
              "            + ' to learn more about interactive tables.';\n",
              "          element.innerHTML = '';\n",
              "          dataTable['output_type'] = 'display_data';\n",
              "          await google.colab.output.renderOutput(dataTable, element);\n",
              "          const docLink = document.createElement('div');\n",
              "          docLink.innerHTML = docLinkHtml;\n",
              "          element.appendChild(docLink);\n",
              "        }\n",
              "      </script>\n",
              "    </div>\n",
              "  </div>\n",
              "  "
            ]
          },
          "metadata": {},
          "execution_count": 31
        }
      ]
    },
    {
      "cell_type": "code",
      "source": [
        "df.info()"
      ],
      "metadata": {
        "colab": {
          "base_uri": "https://localhost:8080/"
        },
        "id": "z00Mp8BpBENy",
        "outputId": "bd82cf73-ce19-4cae-bf41-6236db58397b"
      },
      "execution_count": null,
      "outputs": [
        {
          "output_type": "stream",
          "name": "stdout",
          "text": [
            "<class 'pandas.core.frame.DataFrame'>\n",
            "Int64Index: 11802 entries, 0 to 12378\n",
            "Data columns (total 31 columns):\n",
            " #   Column                                Non-Null Count  Dtype  \n",
            "---  ------                                --------------  -----  \n",
            " 0   offer expiration                      11802 non-null  int64  \n",
            " 1   income_range                          11802 non-null  float64\n",
            " 2   no_visited_Cold drinks                11802 non-null  float64\n",
            " 3   travelled_more_than_15mins_for_offer  11802 non-null  int64  \n",
            " 4   Restaur_spend_less_than20             11802 non-null  float64\n",
            " 5   Marital Status                        11802 non-null  object \n",
            " 6   restaurant type                       11802 non-null  object \n",
            " 7   age                                   11802 non-null  int64  \n",
            " 8   Prefer western over chinese           11802 non-null  int64  \n",
            " 9   travelled_more_than_25mins_for_offer  11802 non-null  int64  \n",
            " 10  travelled_more_than_5mins_for_offer   11802 non-null  int64  \n",
            " 11  no_visited_bars                       11802 non-null  float64\n",
            " 12  gender                                11802 non-null  object \n",
            " 13  car                                   11802 non-null  object \n",
            " 14  restuarant_same_direction_house       11802 non-null  int64  \n",
            " 15  Cooks regularly                       11802 non-null  int64  \n",
            " 16  Customer type                         11802 non-null  object \n",
            " 17  Qualification                         11802 non-null  object \n",
            " 18  is foodie                             11802 non-null  int64  \n",
            " 19  no_Take-aways                         11802 non-null  float64\n",
            " 20  Job/Job Industry                      11802 non-null  object \n",
            " 21  restuarant_opposite_direction_house   11802 non-null  int64  \n",
            " 22  has Children                          11802 non-null  int64  \n",
            " 23  visit restaurant with rating (avg)    11802 non-null  int64  \n",
            " 24  temperature                           11802 non-null  int64  \n",
            " 25  Restaur_spend_greater_than20          11802 non-null  float64\n",
            " 26  Travel Time                           11802 non-null  int64  \n",
            " 27  Climate                               11802 non-null  object \n",
            " 28  drop location                         11802 non-null  object \n",
            " 29  Prefer home food                      11802 non-null  int64  \n",
            " 30  Offer Accepted                        11802 non-null  object \n",
            "dtypes: float64(6), int64(15), object(10)\n",
            "memory usage: 2.9+ MB\n"
          ]
        }
      ]
    },
    {
      "cell_type": "code",
      "source": [
        "df['Marital Status'].unique()"
      ],
      "metadata": {
        "colab": {
          "base_uri": "https://localhost:8080/"
        },
        "id": "jOxHUivysIjK",
        "outputId": "92634ad8-7f80-4e59-844f-0073cd4d9bc0"
      },
      "execution_count": null,
      "outputs": [
        {
          "output_type": "execute_result",
          "data": {
            "text/plain": [
              "array(['Married partner', 'Single', 'Divorced', 'Unmarried partner',\n",
              "       'Widowed'], dtype=object)"
            ]
          },
          "metadata": {},
          "execution_count": 33
        }
      ]
    },
    {
      "cell_type": "code",
      "source": [
        "df['restaurant type'].unique()"
      ],
      "metadata": {
        "colab": {
          "base_uri": "https://localhost:8080/"
        },
        "id": "CE-nfHRXWvzK",
        "outputId": "2c03ab0d-4c7a-42d8-d373-c1457ace5386"
      },
      "execution_count": null,
      "outputs": [
        {
          "output_type": "execute_result",
          "data": {
            "text/plain": [
              "array(['4 star restaurant', 'Take-away restaurant', 'Cold drinks',\n",
              "       'Restaurant with pub', '2 star restaurant'], dtype=object)"
            ]
          },
          "metadata": {},
          "execution_count": 34
        }
      ]
    },
    {
      "cell_type": "code",
      "source": [
        "df['gender'].unique()"
      ],
      "metadata": {
        "colab": {
          "base_uri": "https://localhost:8080/"
        },
        "id": "GMVV84N22-GM",
        "outputId": "07be0c1e-f08c-4fd2-ddae-10107e705c05"
      },
      "execution_count": null,
      "outputs": [
        {
          "output_type": "execute_result",
          "data": {
            "text/plain": [
              "array(['Female', 'Male'], dtype=object)"
            ]
          },
          "metadata": {},
          "execution_count": 35
        }
      ]
    },
    {
      "cell_type": "code",
      "source": [
        "df['car'].unique()"
      ],
      "metadata": {
        "colab": {
          "base_uri": "https://localhost:8080/"
        },
        "id": "19ka6DXn81xH",
        "outputId": "06ae8d33-ec23-44ba-d356-81e32959a53e"
      },
      "execution_count": null,
      "outputs": [
        {
          "output_type": "execute_result",
          "data": {
            "text/plain": [
              "array(['No_vehicle', 'Mazda5', 'Car that is too old to install Onstar :D',\n",
              "       'crossover', 'Scooter and motorcycle', 'do not drive'],\n",
              "      dtype=object)"
            ]
          },
          "metadata": {},
          "execution_count": 36
        }
      ]
    },
    {
      "cell_type": "code",
      "source": [
        "df['Customer type'].unique()"
      ],
      "metadata": {
        "colab": {
          "base_uri": "https://localhost:8080/"
        },
        "id": "9yKEUZajanz7",
        "outputId": "7ada4b7f-70b7-41e7-f0b7-2a54f9f12280"
      },
      "execution_count": null,
      "outputs": [
        {
          "output_type": "execute_result",
          "data": {
            "text/plain": [
              "array(['Individual', 'With Family', 'With Kids', 'With Colleagues'],\n",
              "      dtype=object)"
            ]
          },
          "metadata": {},
          "execution_count": 37
        }
      ]
    },
    {
      "cell_type": "code",
      "source": [
        "df['Qualification'].unique()"
      ],
      "metadata": {
        "colab": {
          "base_uri": "https://localhost:8080/"
        },
        "id": "a-Pfcd7QawBM",
        "outputId": "985145eb-6609-4830-c78a-a53be7a4f24a"
      },
      "execution_count": null,
      "outputs": [
        {
          "output_type": "execute_result",
          "data": {
            "text/plain": [
              "array(['Bachelors degree', 'Some college - no degree',\n",
              "       'Graduate degree (Masters or Doctorate)', 'Associates degree',\n",
              "       'High School Graduate', 'Some High School'], dtype=object)"
            ]
          },
          "metadata": {},
          "execution_count": 38
        }
      ]
    },
    {
      "cell_type": "code",
      "source": [
        "df['Job/Job Industry'].unique()"
      ],
      "metadata": {
        "colab": {
          "base_uri": "https://localhost:8080/"
        },
        "id": "LpCJkt2qa6Md",
        "outputId": "300c8c62-0d5b-4af3-eabf-f1aba6cdc249"
      },
      "execution_count": null,
      "outputs": [
        {
          "output_type": "execute_result",
          "data": {
            "text/plain": [
              "array(['Unemployed', 'Arts Design Entertainment Sports & Media',\n",
              "       'Sales & Related', 'Student', 'Business & Financial',\n",
              "       'Computer & Mathematical', 'Office & Administrative Support',\n",
              "       'Management', 'Healthcare Support', 'Life Physical Social Science',\n",
              "       'Installation Maintenance & Repair', 'Legal',\n",
              "       'Education&Training&Library', 'Construction & Extraction',\n",
              "       'Community & Social Services',\n",
              "       'Healthcare Practitioners & Technical',\n",
              "       'Transportation & Material Moving', 'Retired',\n",
              "       'Architecture & Engineering', 'Production Occupations',\n",
              "       'Farming Fishing & Forestry', 'Protective Service',\n",
              "       'Personal Care & Service', 'Food Preparation & Serving Related',\n",
              "       'Building & Grounds Cleaning & Maintenance'], dtype=object)"
            ]
          },
          "metadata": {},
          "execution_count": 39
        }
      ]
    },
    {
      "cell_type": "code",
      "source": [
        "df['Climate'].unique()"
      ],
      "metadata": {
        "colab": {
          "base_uri": "https://localhost:8080/"
        },
        "id": "R7cXRdsVcCIs",
        "outputId": "e3d9bea8-9727-444e-94f9-9435f31ea6d3"
      },
      "execution_count": null,
      "outputs": [
        {
          "output_type": "execute_result",
          "data": {
            "text/plain": [
              "array(['Spring', 'Summer', 'Winter'], dtype=object)"
            ]
          },
          "metadata": {},
          "execution_count": 40
        }
      ]
    },
    {
      "cell_type": "code",
      "source": [
        "df['drop location'].unique()"
      ],
      "metadata": {
        "colab": {
          "base_uri": "https://localhost:8080/"
        },
        "id": "P4_IGRsxckk5",
        "outputId": "6751b9a6-c207-477d-a582-338090284271"
      },
      "execution_count": null,
      "outputs": [
        {
          "output_type": "execute_result",
          "data": {
            "text/plain": [
              "array(['Location B', 'Location A', 'Location C'], dtype=object)"
            ]
          },
          "metadata": {},
          "execution_count": 41
        }
      ]
    },
    {
      "cell_type": "code",
      "source": [
        "df['Offer Accepted'].unique()"
      ],
      "metadata": {
        "colab": {
          "base_uri": "https://localhost:8080/"
        },
        "id": "mq5fJfA-cxDE",
        "outputId": "6d94f04b-8387-4ed0-fb0c-f7b1212a7886"
      },
      "execution_count": null,
      "outputs": [
        {
          "output_type": "execute_result",
          "data": {
            "text/plain": [
              "array(['No', 'Yes'], dtype=object)"
            ]
          },
          "metadata": {},
          "execution_count": 42
        }
      ]
    },
    {
      "cell_type": "code",
      "source": [
        "import xgboost\n",
        "from sklearn.model_selection import train_test_split\n",
        "from sklearn.model_selection import GridSearchCV\n",
        "from sklearn.metrics import roc_auc_score"
      ],
      "metadata": {
        "id": "4AuDxY8Ugrxe"
      },
      "execution_count": null,
      "outputs": []
    },
    {
      "cell_type": "code",
      "source": [
        "feat_col = [c for c in df.columns if c not in ['Offer Accepted']]\n",
        "X = df.loc[:, feat_col]\n",
        "y = df.loc[:, 'Offer Accepted']"
      ],
      "metadata": {
        "id": "o9-5SW4hIJjA"
      },
      "execution_count": null,
      "outputs": []
    },
    {
      "cell_type": "code",
      "source": [
        "from sklearn.preprocessing import OneHotEncoder\n",
        "ohe = OneHotEncoder(sparse = False)"
      ],
      "metadata": {
        "id": "ir1wLQAqO-jH"
      },
      "execution_count": null,
      "outputs": []
    },
    {
      "cell_type": "code",
      "source": [],
      "metadata": {
        "id": "_NDwOK7DLc1i"
      },
      "execution_count": null,
      "outputs": []
    },
    {
      "cell_type": "code",
      "source": [
        "from sklearn.compose import make_column_transformer\n",
        "col_trans = make_column_transformer((OneHotEncoder(),\n",
        "                                    ['Marital Status', 'restaurant type', 'gender', 'car', 'Customer type', 'Qualification', 'Job/Job Industry', 'Climate', 'drop location']),\n",
        "                                    remainder = 'passthrough')\n",
        "X = col_trans.fit_transform(X)"
      ],
      "metadata": {
        "id": "1WGqGFwDS1_F"
      },
      "execution_count": null,
      "outputs": []
    },
    {
      "cell_type": "code",
      "source": [],
      "metadata": {
        "id": "fqqEhpVWDaPg"
      },
      "execution_count": null,
      "outputs": []
    },
    {
      "cell_type": "code",
      "source": [
        "X_train, X_test, y_train, y_test = train_test_split(X, y, test_size =  0.2)\n",
        "X_train.shape, X_test.shape, y_train.shape, y_test.shape"
      ],
      "metadata": {
        "colab": {
          "base_uri": "https://localhost:8080/"
        },
        "id": "07euzMoLJBF_",
        "outputId": "9852b25e-372e-4532-8da9-0bf5e1086729"
      },
      "execution_count": null,
      "outputs": [
        {
          "output_type": "execute_result",
          "data": {
            "text/plain": [
              "((9441, 80), (2361, 80), (9441,), (2361,))"
            ]
          },
          "metadata": {},
          "execution_count": 47
        }
      ]
    },
    {
      "cell_type": "code",
      "source": [
        "model_xgb = xgboost.XGBClassifier(learning_rate = 0.1,\n",
        "                                  max_depth = 5,\n",
        "                                  n_estimators = 5000,\n",
        "                                  subsample = 0.5,\n",
        "                                  colsample_bytree = 0.5,\n",
        "                                  eval_metric = 'auc',\n",
        "                                  verbosity = 1)\n",
        "model_xgb.fit(X_train,\n",
        "              y_train,\n",
        "              early_stopping_rounds = 10,\n",
        "              eval_set = [(X_test, y_test)],\n",
        "              verbose = True)"
      ],
      "metadata": {
        "colab": {
          "base_uri": "https://localhost:8080/"
        },
        "id": "os3lA0lqJpLQ",
        "outputId": "14bcc8ce-b65f-460c-ecbb-04ca48dc8d0d"
      },
      "execution_count": null,
      "outputs": [
        {
          "output_type": "stream",
          "name": "stdout",
          "text": [
            "[0]\tvalidation_0-auc:0.581203\n",
            "Will train until validation_0-auc hasn't improved in 10 rounds.\n",
            "[1]\tvalidation_0-auc:0.597728\n",
            "[2]\tvalidation_0-auc:0.612897\n",
            "[3]\tvalidation_0-auc:0.622176\n",
            "[4]\tvalidation_0-auc:0.629079\n",
            "[5]\tvalidation_0-auc:0.629694\n",
            "[6]\tvalidation_0-auc:0.629349\n",
            "[7]\tvalidation_0-auc:0.631209\n",
            "[8]\tvalidation_0-auc:0.632928\n",
            "[9]\tvalidation_0-auc:0.636941\n",
            "[10]\tvalidation_0-auc:0.637928\n",
            "[11]\tvalidation_0-auc:0.638814\n",
            "[12]\tvalidation_0-auc:0.638522\n",
            "[13]\tvalidation_0-auc:0.639832\n",
            "[14]\tvalidation_0-auc:0.640243\n",
            "[15]\tvalidation_0-auc:0.643051\n",
            "[16]\tvalidation_0-auc:0.641761\n",
            "[17]\tvalidation_0-auc:0.639281\n",
            "[18]\tvalidation_0-auc:0.637993\n",
            "[19]\tvalidation_0-auc:0.638576\n",
            "[20]\tvalidation_0-auc:0.641428\n",
            "[21]\tvalidation_0-auc:0.642227\n",
            "[22]\tvalidation_0-auc:0.64364\n",
            "[23]\tvalidation_0-auc:0.644712\n",
            "[24]\tvalidation_0-auc:0.646676\n",
            "[25]\tvalidation_0-auc:0.646068\n",
            "[26]\tvalidation_0-auc:0.647492\n",
            "[27]\tvalidation_0-auc:0.650463\n",
            "[28]\tvalidation_0-auc:0.65118\n",
            "[29]\tvalidation_0-auc:0.652068\n",
            "[30]\tvalidation_0-auc:0.652711\n",
            "[31]\tvalidation_0-auc:0.651609\n",
            "[32]\tvalidation_0-auc:0.65212\n",
            "[33]\tvalidation_0-auc:0.652126\n",
            "[34]\tvalidation_0-auc:0.651065\n",
            "[35]\tvalidation_0-auc:0.651451\n",
            "[36]\tvalidation_0-auc:0.650918\n",
            "[37]\tvalidation_0-auc:0.651591\n",
            "[38]\tvalidation_0-auc:0.651951\n",
            "[39]\tvalidation_0-auc:0.651425\n",
            "[40]\tvalidation_0-auc:0.651788\n",
            "Stopping. Best iteration:\n",
            "[30]\tvalidation_0-auc:0.652711\n",
            "\n"
          ]
        },
        {
          "output_type": "execute_result",
          "data": {
            "text/plain": [
              "XGBClassifier(colsample_bytree=0.5, eval_metric='auc', max_depth=5,\n",
              "              n_estimators=5000, subsample=0.5)"
            ]
          },
          "metadata": {},
          "execution_count": 48
        }
      ]
    }
  ]
}